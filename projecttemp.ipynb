{
  "nbformat": 4,
  "nbformat_minor": 0,
  "metadata": {
    "colab": {
      "provenance": [],
      "mount_file_id": "1TMdLjuru7uD_uwVDXcSZ5djXPefoYPJ1",
      "authorship_tag": "ABX9TyMSw4Tht19IT09oB6+7jBzi",
      "include_colab_link": true
    },
    "kernelspec": {
      "name": "python3",
      "display_name": "Python 3"
    },
    "language_info": {
      "name": "python"
    }
  },
  "cells": [
    {
      "cell_type": "markdown",
      "metadata": {
        "id": "view-in-github",
        "colab_type": "text"
      },
      "source": [
        "<a href=\"https://colab.research.google.com/github/Nowitkiewicz/LinuxHot16Challenge/blob/main/projecttemp.ipynb\" target=\"_parent\"><img src=\"https://colab.research.google.com/assets/colab-badge.svg\" alt=\"Open In Colab\"/></a>"
      ]
    },
    {
      "cell_type": "code",
      "execution_count": null,
      "metadata": {
        "id": "4irzlRa2VoI4"
      },
      "outputs": [],
      "source": [
        "import pandas as pd\n",
        "import numpy as np\n",
        "import sklearn\n",
        "import matplotlib.pyplot as plt\n",
        "%matplotlib inline\n",
        "from sklearn.ensemble import RandomForestClassifier,RandomForestRegressor\n",
        "from sklearn.model_selection import train_test_split\n",
        "from sklearn.compose import ColumnTransformer\n",
        "from sklearn.preprocessing import OneHotEncoder\n",
        "from sklearn.impute import SimpleImputer\n",
        "from sklearn.linear_model import Ridge\n",
        "pd1 = pd.read_csv('g:/car-sales-extended-missing-data.csv')\n",
        "pd = pd.read_csv('g:/car-sales-extended-missing-data.csv')"
      ]
    },
    {
      "cell_type": "code",
      "source": [
        "pd1.isnull().sum()\n",
        "pd1.dropna(subset = ['Price'],inplace=True)\n",
        "X = pd1.drop(['Price'],axis=1)\n",
        "Y = pd1['Price']\n",
        "X_train,X_test, Y_train, Y_test = train_test_split(X, Y, test_size=0.2)"
      ],
      "metadata": {
        "id": "Tl_plvk4WKA1"
      },
      "execution_count": null,
      "outputs": []
    },
    {
      "cell_type": "code",
      "source": [
        "categories = ['Make','Colour']\n",
        "num = ['Odometer (KM)']\n",
        "doors = ['Doors']\n",
        "catImputer = SimpleImputer(strategy = 'constant',fill_value='missing')\n",
        "numImp = SimpleImputer(strategy= 'mean')\n",
        "doorsImp = SimpleImputer(strategy= 'constant',fill_value=4)\n",
        "Imputer = ColumnTransformer([('one',catImputer,categories),\n",
        "                            ('two',numImp,num),\n",
        "                             ('three',doorsImp,doors)])\n",
        "\n",
        "\n",
        "\n",
        "Imputer_test = ColumnTransformer([('one',catImputer,categories),\n",
        "                            ('two',numImp,num),\n",
        "                             ('three',doorsImp,doors)])\n",
        "Imputer = Imputer.fit_transform(X_train)\n",
        "Imputer_test = Imputer_test.fit_transform(X_test)\n",
        "import pandas as pd\n",
        "Imputer= pd.DataFrame(Imputer,columns= ['Make','Colour','Odometer','Doors'])\n",
        "Imputer_test = pd.DataFrame(Imputer_test,columns= ['Make','Colour','Odometer','Doors'])\n"
      ],
      "metadata": {
        "id": "rQZT1VBCWUtx"
      },
      "execution_count": null,
      "outputs": []
    },
    {
      "cell_type": "code",
      "source": [
        "Imputer= pd.DataFrame(Imputer)\n",
        "Imputer_test = pd.DataFrame(Imputer_test)"
      ],
      "metadata": {
        "id": "EhMi5ODpWvDa"
      },
      "execution_count": null,
      "outputs": []
    },
    {
      "cell_type": "code",
      "source": [
        "Encoded = pd.DataFrame(Encoded)\n",
        "Encoded_test = pd.DataFrame(Encoded_test)"
      ],
      "metadata": {
        "id": "05bTZzW_XBJG"
      },
      "execution_count": null,
      "outputs": []
    },
    {
      "cell_type": "code",
      "source": [
        "Regressor= RandomForestRegressor()"
      ],
      "metadata": {
        "id": "5tvZi_2kXSVm"
      },
      "execution_count": null,
      "outputs": []
    },
    {
      "cell_type": "code",
      "source": [
        "catfeatures = ['Make','Colour','Doors']\n",
        "transformer = ColumnTransformer(strategy = 'constant',fillvalue = 'missing')\n",
        "tran=transformer.fit_transform(pd)"
      ],
      "metadata": {
        "id": "Zgc84LDVXgSg"
      },
      "execution_count": null,
      "outputs": []
    },
    {
      "cell_type": "code",
      "source": [
        "import pandas as pd\n",
        "tran\n",
        "pda = pd.DataFrame(tran)"
      ],
      "metadata": {
        "id": "gB-C21oSXiLy"
      },
      "execution_count": null,
      "outputs": []
    },
    {
      "cell_type": "code",
      "source": [
        "pda.info()"
      ],
      "metadata": {
        "id": "K4diWgOAX46z"
      },
      "execution_count": null,
      "outputs": []
    },
    {
      "cell_type": "code",
      "source": [
        "import pandas as pd\n",
        "\n",
        "pd1 = pd.DataFrame(tran)"
      ],
      "metadata": {
        "colab": {
          "base_uri": "https://localhost:8080/",
          "height": 205
        },
        "id": "0GYbscXYX8vj",
        "outputId": "557e9aa8-7099-4071-80d4-b838ca3d8dfc"
      },
      "execution_count": 1,
      "outputs": [
        {
          "output_type": "error",
          "ename": "NameError",
          "evalue": "ignored",
          "traceback": [
            "\u001b[0;31m---------------------------------------------------------------------------\u001b[0m",
            "\u001b[0;31mNameError\u001b[0m                                 Traceback (most recent call last)",
            "\u001b[0;32m<ipython-input-1-7f2966c3942e>\u001b[0m in \u001b[0;36m<cell line: 3>\u001b[0;34m()\u001b[0m\n\u001b[1;32m      1\u001b[0m \u001b[0;32mimport\u001b[0m \u001b[0mpandas\u001b[0m \u001b[0;32mas\u001b[0m \u001b[0mpd\u001b[0m\u001b[0;34m\u001b[0m\u001b[0;34m\u001b[0m\u001b[0m\n\u001b[1;32m      2\u001b[0m \u001b[0;34m\u001b[0m\u001b[0m\n\u001b[0;32m----> 3\u001b[0;31m \u001b[0mpd1\u001b[0m \u001b[0;34m=\u001b[0m \u001b[0mpd\u001b[0m\u001b[0;34m.\u001b[0m\u001b[0mDataFrame\u001b[0m\u001b[0;34m(\u001b[0m\u001b[0mtran\u001b[0m\u001b[0;34m)\u001b[0m\u001b[0;34m\u001b[0m\u001b[0;34m\u001b[0m\u001b[0m\n\u001b[0m",
            "\u001b[0;31mNameError\u001b[0m: name 'tran' is not defined"
          ]
        }
      ]
    },
    {
      "cell_type": "code",
      "source": [
        "import pandas as pd\n",
        "pd2 = pd.read_csv('g:/car-sales-extended-missing-data.csv')\n",
        "pd2['Doors'].fillna('missing')\n",
        "pd2.info()"
      ],
      "metadata": {
        "id": "3xMppsYkYOIk"
      },
      "execution_count": null,
      "outputs": []
    },
    {
      "cell_type": "code",
      "source": [
        "pd = pd.read_csv('g:/car-sales-extended-missing-data.csv')\n",
        "pd = pd.dropna(subset = ['Price'])\n",
        "X = pd.drop('Price',axis=1)\n",
        "y = pd['Price']\n",
        "\n",
        "catfeatures = ['Make','Colour']\n",
        "doorfeat = ['Doors']\n",
        "odofeat = ['Odometer (KM)']\n",
        "catImputer = SimpleImputer(strategy = 'constant', fill_value='missing')\n",
        "DoorImputer = SimpleImputer(strategy = 'constant', fill_value=4)\n",
        "odoImputer = SimpleImputer(strategy = 'mean')\n",
        "\n",
        "transformer = ColumnTransformer([('one',catImputer,catfeatures),\n",
        "                                 ('two',DoorImputer,doorfeat),\n",
        "                                 ('three',odoImputer,odofeat) ],\n",
        "                                  remainder='passthrough')\n",
        "\n",
        "tran = transformer.fit_transform(X)\n",
        "import pandas as pd\n",
        "tran = pd.DataFrame(tran,columns=['Make','Colour','Doors','Odometer (KM)'])\n",
        "One = OneHotEncoder()\n",
        "transformer2 = ColumnTransformer([('four',One,catfeatures)],remainder='passthrough')\n",
        "\n",
        "\n",
        "encoded = transformer2.fit_transform(tran)\n",
        "tran\n",
        "\n",
        "\n",
        "\n",
        "encoded.shape"
      ],
      "metadata": {
        "id": "2uzhAbfzYA16"
      },
      "execution_count": null,
      "outputs": []
    },
    {
      "cell_type": "code",
      "source": [
        "import pandas as pd\n",
        "tran = pd.DataFrame(tran,columns=['Make','Colour','Doors','Odometer (KM)'])\n",
        "#tran= pd.DataFrame(tran)\n",
        "tran"
      ],
      "metadata": {
        "id": "kytMTOCoYZGL"
      },
      "execution_count": null,
      "outputs": []
    },
    {
      "cell_type": "code",
      "source": [
        "pd = pd.read_csv('g:/car-sales-extended-missing-data.csv')"
      ],
      "metadata": {
        "id": "g-jXez6dYntK"
      },
      "execution_count": null,
      "outputs": []
    },
    {
      "cell_type": "code",
      "source": [
        "X = pd.drop('Price',axis=1)\n",
        "y = pd['Price']\n",
        "\n",
        "catfeatures = ['Make','Colour']\n",
        "doorfeat = ['Doors']\n",
        "odofeat = ['Odometer (KM)']\n",
        "\n",
        "catImputer = SimpleImputer(strategy = 'constant', fill_value='missing')\n",
        "DoorImputer = SimpleImputer(strategy = 'constant', fill_value=4)\n",
        "odoImputer = SimpleImputer(strategy = 'mean')\n",
        "cashImputer = SimpleImputer(strategy = 'mean')\n",
        "transformer = ColumnTransformer([('one',catImputer,catfeatures),\n",
        "                                ('two',DoorImputer,doorfeat),\n",
        "                                ('three',odoImputer,odofeat),\n",
        "                                ],\n",
        "                                 remainder='passthrough')\n",
        "\n",
        "tran = transformer.fit_transform(X)\n",
        "\n",
        "import pandas as pd\n",
        "pd4 = pd.DataFrame(tran)"
      ],
      "metadata": {
        "id": "BY3WidsNYo2P"
      },
      "execution_count": null,
      "outputs": []
    },
    {
      "cell_type": "code",
      "source": [
        "import pandas as pd\n",
        "pd = pd.read_csv('g:/car-sales-extended-missing-data.csv')\n",
        "pd = pd.dropna(subset = ['Price'])\n",
        "X = pd.drop('Price',axis=1)\n",
        "y = pd['Price']\n",
        "\n",
        "catfeatures = ['Make','Colour']\n",
        "doorfeat = ['Doors']\n",
        "odofeat = ['Odometer (KM)']\n",
        "catImputer = SimpleImputer(strategy = 'constant', fill_value='missing')\n",
        "DoorImputer = SimpleImputer(strategy = 'constant', fill_value=4)\n",
        "odoImputer = SimpleImputer(strategy = 'mean')\n",
        "\n",
        "transformer = ColumnTransformer([('one',catImputer,catfeatures),\n",
        "                                 ('two',DoorImputer,doorfeat),\n",
        "                                 ('three',odoImputer,odofeat) ], remainder='passthrough')\n",
        "\n",
        "transformer = transformer.fit_transform(X)\n",
        "import pandas as pd\n",
        "pd2 = pd.DataFrame(transformer)\n",
        "catfeatures = [0,1,2]\n",
        "one = OneHotEncoder(sparse=False)\n",
        "transformer2 = ColumnTransformer([('one',one,catfeatures)],remainder='passthrough')\n",
        "transformer2 = transformer2.fit_transform(pd2)\n",
        "import pandas as pd\n",
        "pd3 = pd.DataFrame(transformer2)\n",
        "pd3\n",
        "\n",
        "pd1['Doors'].fillna(4,inplace=True)\n",
        "\n",
        "\n",
        "print(Encoded_Data.shape,X_test.shape,y_train.shape,y_test.shape)\n",
        "print(X_train.shape)\n",
        "CatVal = ['Make','Colour']\n",
        "Odometer = ['Odometer (KM)']\n",
        "Doors = ['Doors']\n",
        "print(y_train.shape)\n",
        "CatImputer = SimpleImputer(strategy = 'constant', fill_value='missing')\n",
        "DoorImputer = SimpleImputer(strategy = 'constant', fill_value=4)\n",
        "OdoImputer = SimpleImputer(strategy = 'mean')\n",
        "print(y_train.shape)\n",
        "Imputer = ColumnTransformer([('one',CatImputer,CatVal),\n",
        "                            ('two',OdoImputer,Odometer),\n",
        "                            ('Three',DoorImputer,Doors)])\n",
        "print(X_train.shape)\n",
        "Imputer = Imputer.fit_transform(X)\n",
        "#print(y_train.shape)\n",
        "Imputer = pd.DataFrame(Imputer,columns=['Make','Colour','Odometer (KM)','Doors'])\n",
        "print(Imputer.isna().sum())\n",
        "One = OneHotEncoder()\n",
        "Encoder = ColumnTransformer([('one',One,CatVal)],remainder= 'passthrough')\n",
        "Encoder = Encoder.fit_transform(Imputer)\n",
        "\n",
        "\n",
        "\n",
        "Encoded_Data = pd.DataFrame(Encoder)\n",
        "print(Encoded_Data.isna().sum())\n"
      ],
      "metadata": {
        "id": "Uhg2nDUcY8TK"
      },
      "execution_count": null,
      "outputs": []
    },
    {
      "cell_type": "code",
      "source": [
        "X_train,X_test,y_train,y_test = train_test_split(pd3,y , test_size=0.2)\n",
        "\n",
        "reg = RandomForestRegressor()\n",
        "reg.fit(X_train,y_train)\n",
        "reg.score(X_test,y_test)"
      ],
      "metadata": {
        "id": "Tm-ThqotYwdL"
      },
      "execution_count": null,
      "outputs": []
    },
    {
      "cell_type": "code",
      "source": [
        "R = Ridge()"
      ],
      "metadata": {
        "id": "If4T-uS5ZU03"
      },
      "execution_count": null,
      "outputs": []
    },
    {
      "cell_type": "code",
      "source": [
        "R.fit(X_train,y_train)\n",
        "R.score(X_test,y_test)"
      ],
      "metadata": {
        "id": "jr3bwDy_ZGdT"
      },
      "execution_count": null,
      "outputs": []
    },
    {
      "cell_type": "code",
      "source": [
        "pd.isna().sum()\n",
        "... pd.dropna(inplace=True)\n",
        "... y.dropna(inplace=True)"
      ],
      "metadata": {
        "id": "Y2THC9HvZcFq"
      },
      "execution_count": null,
      "outputs": []
    },
    {
      "cell_type": "code",
      "source": [
        "X_train,X_test,y_train,y_test = train_test_split(pd,y,test_size=0.2)\n",
        "... clf = RandomForestRegressor()\n",
        "... clf.fit(X_train,y_train)\n",
        "... clf.score(X_test,y_test)"
      ],
      "metadata": {
        "id": "j_jbmkIqZhVB"
      },
      "execution_count": null,
      "outputs": []
    },
    {
      "cell_type": "code",
      "source": [
        "import pandas as pd\n",
        "... pd\n",
        "... tran_pd= pd.DataFrame(transformer,columns=['Make','Colour','Doors','Odometer (KM)'])\n",
        "... transformer"
      ],
      "metadata": {
        "id": "wUF-ChENZlqj"
      },
      "execution_count": null,
      "outputs": []
    },
    {
      "cell_type": "code",
      "source": [
        "trans = transformer.fit_transform(X)"
      ],
      "metadata": {
        "id": "TeTVI-dPZld7"
      },
      "execution_count": null,
      "outputs": []
    },
    {
      "cell_type": "code",
      "source": [
        "... import pandas as pd\n",
        "... pd1 = pd.read_csv('g:/car-sales-extended-missing-data.csv')\n",
        "... pd1= pd1.dropna()\n",
        "... import pandas as pd\n",
        "... dummies = pd.get_dummies(pd1[['Make','Colour','Doors']])\n",
        "... pd1"
      ],
      "metadata": {
        "id": "yjeRwELCZz9V"
      },
      "execution_count": null,
      "outputs": []
    },
    {
      "cell_type": "code",
      "source": [
        "dummies= pd.concat([dummies, y], axis=1)"
      ],
      "metadata": {
        "id": "1apR_4PjaDPa"
      },
      "execution_count": null,
      "outputs": []
    },
    {
      "cell_type": "code",
      "source": [
        " dummies.dropna(inplace=True)\n",
        "... dummies"
      ],
      "metadata": {
        "id": "ZInj68-3aE0O"
      },
      "execution_count": null,
      "outputs": []
    },
    {
      "cell_type": "code",
      "source": [
        ".. X = dummies.drop('Price',axis=1)\n",
        "... y = dummies['Price']\n",
        "... X_train,X_test, y_train, y_test = train_test_split(X, y, test_size=0.2)"
      ],
      "metadata": {
        "id": "mn0uG3TtaKUa"
      },
      "execution_count": null,
      "outputs": []
    },
    {
      "cell_type": "code",
      "source": [
        " RR = Ridge()\n",
        "... RR.fit(X_train,y_train)\n",
        "... RR.score(X_test,y_test)"
      ],
      "metadata": {
        "id": "YE9_orbuaXCh"
      },
      "execution_count": null,
      "outputs": []
    },
    {
      "cell_type": "markdown",
      "source": [
        "# Nowa sekcja"
      ],
      "metadata": {
        "id": "FKWr5LoValwP"
      }
    }
  ]
}